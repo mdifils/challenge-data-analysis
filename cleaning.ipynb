{
 "cells": [
  {
   "cell_type": "code",
   "execution_count": 1,
   "id": "3923be5b",
   "metadata": {},
   "outputs": [],
   "source": [
    "import numpy as np\r\n",
    "import pandas as pd\r\n",
    "import seaborn as sns\r\n",
    "import matplotlib.pyplot as plt"
   ]
  },
  {
   "cell_type": "code",
   "execution_count": 2,
   "id": "fce30503",
   "metadata": {},
   "outputs": [
    {
     "data": {
      "text/html": [
       "<div>\n",
       "<style scoped>\n",
       "    .dataframe tbody tr th:only-of-type {\n",
       "        vertical-align: middle;\n",
       "    }\n",
       "\n",
       "    .dataframe tbody tr th {\n",
       "        vertical-align: top;\n",
       "    }\n",
       "\n",
       "    .dataframe thead th {\n",
       "        text-align: right;\n",
       "    }\n",
       "</style>\n",
       "<table border=\"1\" class=\"dataframe\">\n",
       "  <thead>\n",
       "    <tr style=\"text-align: right;\">\n",
       "      <th></th>\n",
       "      <th>Unnamed: 0</th>\n",
       "      <th>Area [m²]</th>\n",
       "      <th>Price [€]</th>\n",
       "      <th>state of the building</th>\n",
       "      <th>number of facades</th>\n",
       "      <th>number of bedrooms</th>\n",
       "      <th>fully equipped kitchen</th>\n",
       "      <th>furnished</th>\n",
       "      <th>open fire</th>\n",
       "      <th>locality [zip code]</th>\n",
       "      <th>surface of the land [m²]</th>\n",
       "      <th>terrace</th>\n",
       "      <th>terrace surface [m²]</th>\n",
       "      <th>swimming pool</th>\n",
       "      <th>type of property</th>\n",
       "      <th>subtype of property</th>\n",
       "      <th>garden</th>\n",
       "      <th>garden surface [m²]</th>\n",
       "    </tr>\n",
       "  </thead>\n",
       "  <tbody>\n",
       "    <tr>\n",
       "      <th>0</th>\n",
       "      <td>0</td>\n",
       "      <td>123.0</td>\n",
       "      <td>200000</td>\n",
       "      <td>good</td>\n",
       "      <td>3.0</td>\n",
       "      <td>2.0</td>\n",
       "      <td>installed</td>\n",
       "      <td>no</td>\n",
       "      <td>NaN</td>\n",
       "      <td>3294</td>\n",
       "      <td>429.0</td>\n",
       "      <td>0</td>\n",
       "      <td>0</td>\n",
       "      <td>NaN</td>\n",
       "      <td>house</td>\n",
       "      <td>house</td>\n",
       "      <td>1</td>\n",
       "      <td>350</td>\n",
       "    </tr>\n",
       "    <tr>\n",
       "      <th>1</th>\n",
       "      <td>3</td>\n",
       "      <td>255.0</td>\n",
       "      <td>698000</td>\n",
       "      <td>just renovated</td>\n",
       "      <td>4.0</td>\n",
       "      <td>4.0</td>\n",
       "      <td>installed</td>\n",
       "      <td>no</td>\n",
       "      <td>NaN</td>\n",
       "      <td>2070</td>\n",
       "      <td>1210.0</td>\n",
       "      <td>0</td>\n",
       "      <td>0</td>\n",
       "      <td>NaN</td>\n",
       "      <td>house</td>\n",
       "      <td>villa</td>\n",
       "      <td>0</td>\n",
       "      <td>0</td>\n",
       "    </tr>\n",
       "    <tr>\n",
       "      <th>2</th>\n",
       "      <td>4</td>\n",
       "      <td>234.0</td>\n",
       "      <td>499000</td>\n",
       "      <td>as new</td>\n",
       "      <td>NaN</td>\n",
       "      <td>5.0</td>\n",
       "      <td>NaN</td>\n",
       "      <td>NaN</td>\n",
       "      <td>NaN</td>\n",
       "      <td>8800</td>\n",
       "      <td>744.0</td>\n",
       "      <td>0</td>\n",
       "      <td>0</td>\n",
       "      <td>NaN</td>\n",
       "      <td>house</td>\n",
       "      <td>villa</td>\n",
       "      <td>0</td>\n",
       "      <td>0</td>\n",
       "    </tr>\n",
       "    <tr>\n",
       "      <th>3</th>\n",
       "      <td>5</td>\n",
       "      <td>219.0</td>\n",
       "      <td>717000</td>\n",
       "      <td>as new</td>\n",
       "      <td>NaN</td>\n",
       "      <td>4.0</td>\n",
       "      <td>NaN</td>\n",
       "      <td>no</td>\n",
       "      <td>NaN</td>\n",
       "      <td>8000</td>\n",
       "      <td>760.0</td>\n",
       "      <td>0</td>\n",
       "      <td>0</td>\n",
       "      <td>NaN</td>\n",
       "      <td>house</td>\n",
       "      <td>house</td>\n",
       "      <td>0</td>\n",
       "      <td>0</td>\n",
       "    </tr>\n",
       "    <tr>\n",
       "      <th>4</th>\n",
       "      <td>6</td>\n",
       "      <td>156.0</td>\n",
       "      <td>429000</td>\n",
       "      <td>good</td>\n",
       "      <td>4.0</td>\n",
       "      <td>4.0</td>\n",
       "      <td>installed</td>\n",
       "      <td>no</td>\n",
       "      <td>NaN</td>\n",
       "      <td>8800</td>\n",
       "      <td>419.0</td>\n",
       "      <td>0</td>\n",
       "      <td>0</td>\n",
       "      <td>NaN</td>\n",
       "      <td>house</td>\n",
       "      <td>villa</td>\n",
       "      <td>1</td>\n",
       "      <td>90</td>\n",
       "    </tr>\n",
       "  </tbody>\n",
       "</table>\n",
       "</div>"
      ],
      "text/plain": [
       "   Unnamed: 0  Area [m²] Price [€] state of the building  number of facades  \\\n",
       "0           0      123.0    200000                  good                3.0   \n",
       "1           3      255.0    698000        just renovated                4.0   \n",
       "2           4      234.0    499000                as new                NaN   \n",
       "3           5      219.0    717000                as new                NaN   \n",
       "4           6      156.0    429000                  good                4.0   \n",
       "\n",
       "   number of bedrooms fully equipped kitchen furnished  open fire  \\\n",
       "0                 2.0              installed        no        NaN   \n",
       "1                 4.0              installed        no        NaN   \n",
       "2                 5.0                    NaN       NaN        NaN   \n",
       "3                 4.0                    NaN        no        NaN   \n",
       "4                 4.0              installed        no        NaN   \n",
       "\n",
       "   locality [zip code]  surface of the land [m²]  terrace  \\\n",
       "0                 3294                     429.0        0   \n",
       "1                 2070                    1210.0        0   \n",
       "2                 8800                     744.0        0   \n",
       "3                 8000                     760.0        0   \n",
       "4                 8800                     419.0        0   \n",
       "\n",
       "   terrace surface [m²] swimming pool type of property subtype of property  \\\n",
       "0                     0           NaN            house               house   \n",
       "1                     0           NaN            house               villa   \n",
       "2                     0           NaN            house               villa   \n",
       "3                     0           NaN            house               house   \n",
       "4                     0           NaN            house               villa   \n",
       "\n",
       "   garden  garden surface [m²]  \n",
       "0       1                  350  \n",
       "1       0                    0  \n",
       "2       0                    0  \n",
       "3       0                    0  \n",
       "4       1                   90  "
      ]
     },
     "execution_count": 2,
     "metadata": {},
     "output_type": "execute_result"
    }
   ],
   "source": [
    "df = pd.read_csv('immo_dataset.csv')\n",
    "df.head()"
   ]
  },
  {
   "cell_type": "code",
   "execution_count": 3,
   "id": "78d8a1e4",
   "metadata": {},
   "outputs": [
    {
     "data": {
      "text/html": [
       "<div>\n",
       "<style scoped>\n",
       "    .dataframe tbody tr th:only-of-type {\n",
       "        vertical-align: middle;\n",
       "    }\n",
       "\n",
       "    .dataframe tbody tr th {\n",
       "        vertical-align: top;\n",
       "    }\n",
       "\n",
       "    .dataframe thead th {\n",
       "        text-align: right;\n",
       "    }\n",
       "</style>\n",
       "<table border=\"1\" class=\"dataframe\">\n",
       "  <thead>\n",
       "    <tr style=\"text-align: right;\">\n",
       "      <th></th>\n",
       "      <th>Area [m²]</th>\n",
       "      <th>Price [€]</th>\n",
       "      <th>state of the building</th>\n",
       "      <th>number of facades</th>\n",
       "      <th>number of bedrooms</th>\n",
       "      <th>fully equipped kitchen</th>\n",
       "      <th>furnished</th>\n",
       "      <th>open fire</th>\n",
       "      <th>locality [zip code]</th>\n",
       "      <th>surface of the land [m²]</th>\n",
       "      <th>terrace</th>\n",
       "      <th>terrace surface [m²]</th>\n",
       "      <th>swimming pool</th>\n",
       "      <th>type of property</th>\n",
       "      <th>subtype of property</th>\n",
       "      <th>garden</th>\n",
       "      <th>garden surface [m²]</th>\n",
       "    </tr>\n",
       "  </thead>\n",
       "  <tbody>\n",
       "    <tr>\n",
       "      <th>0</th>\n",
       "      <td>123.0</td>\n",
       "      <td>200000</td>\n",
       "      <td>good</td>\n",
       "      <td>3.0</td>\n",
       "      <td>2.0</td>\n",
       "      <td>installed</td>\n",
       "      <td>no</td>\n",
       "      <td>NaN</td>\n",
       "      <td>3294</td>\n",
       "      <td>429.0</td>\n",
       "      <td>0</td>\n",
       "      <td>0</td>\n",
       "      <td>NaN</td>\n",
       "      <td>house</td>\n",
       "      <td>house</td>\n",
       "      <td>1</td>\n",
       "      <td>350</td>\n",
       "    </tr>\n",
       "    <tr>\n",
       "      <th>1</th>\n",
       "      <td>255.0</td>\n",
       "      <td>698000</td>\n",
       "      <td>just renovated</td>\n",
       "      <td>4.0</td>\n",
       "      <td>4.0</td>\n",
       "      <td>installed</td>\n",
       "      <td>no</td>\n",
       "      <td>NaN</td>\n",
       "      <td>2070</td>\n",
       "      <td>1210.0</td>\n",
       "      <td>0</td>\n",
       "      <td>0</td>\n",
       "      <td>NaN</td>\n",
       "      <td>house</td>\n",
       "      <td>villa</td>\n",
       "      <td>0</td>\n",
       "      <td>0</td>\n",
       "    </tr>\n",
       "    <tr>\n",
       "      <th>2</th>\n",
       "      <td>234.0</td>\n",
       "      <td>499000</td>\n",
       "      <td>as new</td>\n",
       "      <td>NaN</td>\n",
       "      <td>5.0</td>\n",
       "      <td>NaN</td>\n",
       "      <td>NaN</td>\n",
       "      <td>NaN</td>\n",
       "      <td>8800</td>\n",
       "      <td>744.0</td>\n",
       "      <td>0</td>\n",
       "      <td>0</td>\n",
       "      <td>NaN</td>\n",
       "      <td>house</td>\n",
       "      <td>villa</td>\n",
       "      <td>0</td>\n",
       "      <td>0</td>\n",
       "    </tr>\n",
       "    <tr>\n",
       "      <th>3</th>\n",
       "      <td>219.0</td>\n",
       "      <td>717000</td>\n",
       "      <td>as new</td>\n",
       "      <td>NaN</td>\n",
       "      <td>4.0</td>\n",
       "      <td>NaN</td>\n",
       "      <td>no</td>\n",
       "      <td>NaN</td>\n",
       "      <td>8000</td>\n",
       "      <td>760.0</td>\n",
       "      <td>0</td>\n",
       "      <td>0</td>\n",
       "      <td>NaN</td>\n",
       "      <td>house</td>\n",
       "      <td>house</td>\n",
       "      <td>0</td>\n",
       "      <td>0</td>\n",
       "    </tr>\n",
       "    <tr>\n",
       "      <th>4</th>\n",
       "      <td>156.0</td>\n",
       "      <td>429000</td>\n",
       "      <td>good</td>\n",
       "      <td>4.0</td>\n",
       "      <td>4.0</td>\n",
       "      <td>installed</td>\n",
       "      <td>no</td>\n",
       "      <td>NaN</td>\n",
       "      <td>8800</td>\n",
       "      <td>419.0</td>\n",
       "      <td>0</td>\n",
       "      <td>0</td>\n",
       "      <td>NaN</td>\n",
       "      <td>house</td>\n",
       "      <td>villa</td>\n",
       "      <td>1</td>\n",
       "      <td>90</td>\n",
       "    </tr>\n",
       "  </tbody>\n",
       "</table>\n",
       "</div>"
      ],
      "text/plain": [
       "   Area [m²] Price [€] state of the building  number of facades  \\\n",
       "0      123.0    200000                  good                3.0   \n",
       "1      255.0    698000        just renovated                4.0   \n",
       "2      234.0    499000                as new                NaN   \n",
       "3      219.0    717000                as new                NaN   \n",
       "4      156.0    429000                  good                4.0   \n",
       "\n",
       "   number of bedrooms fully equipped kitchen furnished  open fire  \\\n",
       "0                 2.0              installed        no        NaN   \n",
       "1                 4.0              installed        no        NaN   \n",
       "2                 5.0                    NaN       NaN        NaN   \n",
       "3                 4.0                    NaN        no        NaN   \n",
       "4                 4.0              installed        no        NaN   \n",
       "\n",
       "   locality [zip code]  surface of the land [m²]  terrace  \\\n",
       "0                 3294                     429.0        0   \n",
       "1                 2070                    1210.0        0   \n",
       "2                 8800                     744.0        0   \n",
       "3                 8000                     760.0        0   \n",
       "4                 8800                     419.0        0   \n",
       "\n",
       "   terrace surface [m²] swimming pool type of property subtype of property  \\\n",
       "0                     0           NaN            house               house   \n",
       "1                     0           NaN            house               villa   \n",
       "2                     0           NaN            house               villa   \n",
       "3                     0           NaN            house               house   \n",
       "4                     0           NaN            house               villa   \n",
       "\n",
       "   garden  garden surface [m²]  \n",
       "0       1                  350  \n",
       "1       0                    0  \n",
       "2       0                    0  \n",
       "3       0                    0  \n",
       "4       1                   90  "
      ]
     },
     "execution_count": 3,
     "metadata": {},
     "output_type": "execute_result"
    }
   ],
   "source": [
    "# deleting the \"Unnamed: 0\" column from the dataframe\n",
    "df.drop('Unnamed: 0', axis=1, inplace=True)\n",
    "df.head()"
   ]
  },
  {
   "cell_type": "code",
   "execution_count": 4,
   "id": "24684fbc",
   "metadata": {},
   "outputs": [
    {
     "data": {
      "text/html": [
       "<div>\n",
       "<style scoped>\n",
       "    .dataframe tbody tr th:only-of-type {\n",
       "        vertical-align: middle;\n",
       "    }\n",
       "\n",
       "    .dataframe tbody tr th {\n",
       "        vertical-align: top;\n",
       "    }\n",
       "\n",
       "    .dataframe thead th {\n",
       "        text-align: right;\n",
       "    }\n",
       "</style>\n",
       "<table border=\"1\" class=\"dataframe\">\n",
       "  <thead>\n",
       "    <tr style=\"text-align: right;\">\n",
       "      <th></th>\n",
       "      <th>area</th>\n",
       "      <th>price</th>\n",
       "      <th>building_status</th>\n",
       "      <th>number_facades</th>\n",
       "      <th>number_bedrooms</th>\n",
       "      <th>kitchen_equipped</th>\n",
       "      <th>furnished</th>\n",
       "      <th>open_fire</th>\n",
       "      <th>zip_code</th>\n",
       "      <th>land_surface</th>\n",
       "      <th>terrace</th>\n",
       "      <th>terrace_surface</th>\n",
       "      <th>swimming_pool</th>\n",
       "      <th>property_type</th>\n",
       "      <th>property_subtype</th>\n",
       "      <th>garden</th>\n",
       "      <th>garden_surface</th>\n",
       "    </tr>\n",
       "  </thead>\n",
       "  <tbody>\n",
       "    <tr>\n",
       "      <th>0</th>\n",
       "      <td>123.0</td>\n",
       "      <td>200000</td>\n",
       "      <td>good</td>\n",
       "      <td>3.0</td>\n",
       "      <td>2.0</td>\n",
       "      <td>installed</td>\n",
       "      <td>no</td>\n",
       "      <td>NaN</td>\n",
       "      <td>3294</td>\n",
       "      <td>429.0</td>\n",
       "      <td>0</td>\n",
       "      <td>0</td>\n",
       "      <td>NaN</td>\n",
       "      <td>house</td>\n",
       "      <td>house</td>\n",
       "      <td>1</td>\n",
       "      <td>350</td>\n",
       "    </tr>\n",
       "    <tr>\n",
       "      <th>1</th>\n",
       "      <td>255.0</td>\n",
       "      <td>698000</td>\n",
       "      <td>just renovated</td>\n",
       "      <td>4.0</td>\n",
       "      <td>4.0</td>\n",
       "      <td>installed</td>\n",
       "      <td>no</td>\n",
       "      <td>NaN</td>\n",
       "      <td>2070</td>\n",
       "      <td>1210.0</td>\n",
       "      <td>0</td>\n",
       "      <td>0</td>\n",
       "      <td>NaN</td>\n",
       "      <td>house</td>\n",
       "      <td>villa</td>\n",
       "      <td>0</td>\n",
       "      <td>0</td>\n",
       "    </tr>\n",
       "    <tr>\n",
       "      <th>2</th>\n",
       "      <td>234.0</td>\n",
       "      <td>499000</td>\n",
       "      <td>as new</td>\n",
       "      <td>NaN</td>\n",
       "      <td>5.0</td>\n",
       "      <td>NaN</td>\n",
       "      <td>NaN</td>\n",
       "      <td>NaN</td>\n",
       "      <td>8800</td>\n",
       "      <td>744.0</td>\n",
       "      <td>0</td>\n",
       "      <td>0</td>\n",
       "      <td>NaN</td>\n",
       "      <td>house</td>\n",
       "      <td>villa</td>\n",
       "      <td>0</td>\n",
       "      <td>0</td>\n",
       "    </tr>\n",
       "    <tr>\n",
       "      <th>3</th>\n",
       "      <td>219.0</td>\n",
       "      <td>717000</td>\n",
       "      <td>as new</td>\n",
       "      <td>NaN</td>\n",
       "      <td>4.0</td>\n",
       "      <td>NaN</td>\n",
       "      <td>no</td>\n",
       "      <td>NaN</td>\n",
       "      <td>8000</td>\n",
       "      <td>760.0</td>\n",
       "      <td>0</td>\n",
       "      <td>0</td>\n",
       "      <td>NaN</td>\n",
       "      <td>house</td>\n",
       "      <td>house</td>\n",
       "      <td>0</td>\n",
       "      <td>0</td>\n",
       "    </tr>\n",
       "    <tr>\n",
       "      <th>4</th>\n",
       "      <td>156.0</td>\n",
       "      <td>429000</td>\n",
       "      <td>good</td>\n",
       "      <td>4.0</td>\n",
       "      <td>4.0</td>\n",
       "      <td>installed</td>\n",
       "      <td>no</td>\n",
       "      <td>NaN</td>\n",
       "      <td>8800</td>\n",
       "      <td>419.0</td>\n",
       "      <td>0</td>\n",
       "      <td>0</td>\n",
       "      <td>NaN</td>\n",
       "      <td>house</td>\n",
       "      <td>villa</td>\n",
       "      <td>1</td>\n",
       "      <td>90</td>\n",
       "    </tr>\n",
       "  </tbody>\n",
       "</table>\n",
       "</div>"
      ],
      "text/plain": [
       "    area   price building_status  number_facades  number_bedrooms  \\\n",
       "0  123.0  200000            good             3.0              2.0   \n",
       "1  255.0  698000  just renovated             4.0              4.0   \n",
       "2  234.0  499000          as new             NaN              5.0   \n",
       "3  219.0  717000          as new             NaN              4.0   \n",
       "4  156.0  429000            good             4.0              4.0   \n",
       "\n",
       "  kitchen_equipped furnished  open_fire  zip_code  land_surface  terrace  \\\n",
       "0        installed        no        NaN      3294         429.0        0   \n",
       "1        installed        no        NaN      2070        1210.0        0   \n",
       "2              NaN       NaN        NaN      8800         744.0        0   \n",
       "3              NaN        no        NaN      8000         760.0        0   \n",
       "4        installed        no        NaN      8800         419.0        0   \n",
       "\n",
       "   terrace_surface swimming_pool property_type property_subtype  garden  \\\n",
       "0                0           NaN         house            house       1   \n",
       "1                0           NaN         house            villa       0   \n",
       "2                0           NaN         house            villa       0   \n",
       "3                0           NaN         house            house       0   \n",
       "4                0           NaN         house            villa       1   \n",
       "\n",
       "   garden_surface  \n",
       "0             350  \n",
       "1               0  \n",
       "2               0  \n",
       "3               0  \n",
       "4              90  "
      ]
     },
     "execution_count": 4,
     "metadata": {},
     "output_type": "execute_result"
    }
   ],
   "source": [
    "# Renaming columns\n",
    "df.columns = ['area','price','building_status','number_facades','number_bedrooms','kitchen_equipped','furnished','open_fire','zip_code','land_surface','terrace','terrace_surface','swimming_pool','property_type','property_subtype','garden','garden_surface']\n",
    "df.head()"
   ]
  },
  {
   "cell_type": "code",
   "execution_count": 5,
   "id": "66697b84",
   "metadata": {},
   "outputs": [
    {
     "data": {
      "text/plain": [
       "area                float64\n",
       "price                object\n",
       "building_status      object\n",
       "number_facades      float64\n",
       "number_bedrooms     float64\n",
       "kitchen_equipped     object\n",
       "furnished            object\n",
       "open_fire           float64\n",
       "zip_code              int64\n",
       "land_surface        float64\n",
       "terrace               int64\n",
       "terrace_surface       int64\n",
       "swimming_pool        object\n",
       "property_type        object\n",
       "property_subtype     object\n",
       "garden                int64\n",
       "garden_surface        int64\n",
       "dtype: object"
      ]
     },
     "execution_count": 5,
     "metadata": {},
     "output_type": "execute_result"
    }
   ],
   "source": [
    "# Checking the columns type\n",
    "df.dtypes"
   ]
  },
  {
   "cell_type": "code",
   "execution_count": 6,
   "id": "d7216d21",
   "metadata": {},
   "outputs": [
    {
     "data": {
      "text/plain": [
       "area                float64\n",
       "price               float64\n",
       "building_status      object\n",
       "number_facades      float64\n",
       "number_bedrooms     float64\n",
       "kitchen_equipped     object\n",
       "furnished            object\n",
       "open_fire           float64\n",
       "zip_code              int64\n",
       "land_surface        float64\n",
       "terrace               int64\n",
       "terrace_surface       int64\n",
       "swimming_pool        object\n",
       "property_type        object\n",
       "property_subtype     object\n",
       "garden                int64\n",
       "garden_surface        int64\n",
       "dtype: object"
      ]
     },
     "execution_count": 6,
     "metadata": {},
     "output_type": "execute_result"
    }
   ],
   "source": [
    "# Changing price type from object (string) to float\n",
    "# price has either string 'number' where number is an integer or string 'no'\n",
    "# so float('no') will raise an error because no is not a number. \n",
    "# For this reason, we need to replace first 'no' by 'NaN' or 'np.nan'\n",
    "df.replace({'no':np.nan}, inplace=True)\n",
    "df[\"price\"] = pd.to_numeric(df[\"price\"])\n",
    "df.dtypes"
   ]
  },
  {
   "cell_type": "code",
   "execution_count": 7,
   "id": "a8f5ec9d",
   "metadata": {},
   "outputs": [
    {
     "data": {
      "text/plain": [
       "area                1736\n",
       "price                 34\n",
       "building_status     3116\n",
       "number_facades      2338\n",
       "number_bedrooms      152\n",
       "kitchen_equipped    3423\n",
       "furnished           9961\n",
       "open_fire           9346\n",
       "zip_code               0\n",
       "land_surface           0\n",
       "terrace                0\n",
       "terrace_surface        0\n",
       "swimming_pool       9692\n",
       "property_type          0\n",
       "property_subtype       0\n",
       "garden                 0\n",
       "garden_surface         0\n",
       "dtype: int64"
      ]
     },
     "execution_count": 7,
     "metadata": {},
     "output_type": "execute_result"
    }
   ],
   "source": [
    "df.isna().sum()"
   ]
  },
  {
   "cell_type": "markdown",
   "id": "bbc1cab0",
   "metadata": {},
   "source": [
    "### Percentage of missing values per column ?"
   ]
  },
  {
   "cell_type": "code",
   "execution_count": 8,
   "id": "88a8489d",
   "metadata": {},
   "outputs": [
    {
     "data": {
      "text/plain": [
       "area                17.201744\n",
       "price                0.336901\n",
       "building_status     30.875941\n",
       "number_facades      23.166865\n",
       "number_bedrooms      1.506143\n",
       "kitchen_equipped    33.917955\n",
       "furnished           98.701942\n",
       "open_fire           92.608006\n",
       "zip_code             0.000000\n",
       "land_surface         0.000000\n",
       "terrace              0.000000\n",
       "terrace_surface      0.000000\n",
       "swimming_pool       96.036465\n",
       "property_type        0.000000\n",
       "property_subtype     0.000000\n",
       "garden               0.000000\n",
       "garden_surface       0.000000\n",
       "dtype: float64"
      ]
     },
     "execution_count": 8,
     "metadata": {},
     "output_type": "execute_result"
    }
   ],
   "source": [
    "# percentage of missing values in each column\n",
    "df.isna().sum()*100/len(df)"
   ]
  },
  {
   "cell_type": "markdown",
   "id": "97c19db4",
   "metadata": {},
   "source": [
    "### Deleting null values\r\n",
    "Since price is the target variable, so rows without price are not relevant. We'll delete rows without area as well"
   ]
  },
  {
   "cell_type": "code",
   "execution_count": 9,
   "id": "1ec0d313",
   "metadata": {},
   "outputs": [
    {
     "data": {
      "text/plain": [
       "(8333, 17)"
      ]
     },
     "execution_count": 9,
     "metadata": {},
     "output_type": "execute_result"
    }
   ],
   "source": [
    "df.dropna(subset=['area','price'], inplace=True)\r\n",
    "df.shape"
   ]
  },
  {
   "cell_type": "code",
   "execution_count": 10,
   "id": "269cc714",
   "metadata": {},
   "outputs": [
    {
     "data": {
      "text/html": [
       "<div>\n",
       "<style scoped>\n",
       "    .dataframe tbody tr th:only-of-type {\n",
       "        vertical-align: middle;\n",
       "    }\n",
       "\n",
       "    .dataframe tbody tr th {\n",
       "        vertical-align: top;\n",
       "    }\n",
       "\n",
       "    .dataframe thead th {\n",
       "        text-align: right;\n",
       "    }\n",
       "</style>\n",
       "<table border=\"1\" class=\"dataframe\">\n",
       "  <thead>\n",
       "    <tr style=\"text-align: right;\">\n",
       "      <th></th>\n",
       "      <th>area</th>\n",
       "      <th>price</th>\n",
       "      <th>building_status</th>\n",
       "      <th>number_facades</th>\n",
       "      <th>number_bedrooms</th>\n",
       "      <th>kitchen_equipped</th>\n",
       "      <th>furnished</th>\n",
       "      <th>open_fire</th>\n",
       "      <th>zip_code</th>\n",
       "      <th>land_surface</th>\n",
       "      <th>terrace</th>\n",
       "      <th>terrace_surface</th>\n",
       "      <th>swimming_pool</th>\n",
       "      <th>property_type</th>\n",
       "      <th>property_subtype</th>\n",
       "      <th>garden</th>\n",
       "      <th>garden_surface</th>\n",
       "      <th>province</th>\n",
       "    </tr>\n",
       "  </thead>\n",
       "  <tbody>\n",
       "    <tr>\n",
       "      <th>0</th>\n",
       "      <td>123.0</td>\n",
       "      <td>200000.0</td>\n",
       "      <td>good</td>\n",
       "      <td>3.0</td>\n",
       "      <td>2.0</td>\n",
       "      <td>installed</td>\n",
       "      <td>NaN</td>\n",
       "      <td>NaN</td>\n",
       "      <td>3294</td>\n",
       "      <td>429.0</td>\n",
       "      <td>0</td>\n",
       "      <td>0</td>\n",
       "      <td>NaN</td>\n",
       "      <td>house</td>\n",
       "      <td>house</td>\n",
       "      <td>1</td>\n",
       "      <td>350</td>\n",
       "      <td>Flemish Brabant</td>\n",
       "    </tr>\n",
       "    <tr>\n",
       "      <th>1</th>\n",
       "      <td>255.0</td>\n",
       "      <td>698000.0</td>\n",
       "      <td>just renovated</td>\n",
       "      <td>4.0</td>\n",
       "      <td>4.0</td>\n",
       "      <td>installed</td>\n",
       "      <td>NaN</td>\n",
       "      <td>NaN</td>\n",
       "      <td>2070</td>\n",
       "      <td>1210.0</td>\n",
       "      <td>0</td>\n",
       "      <td>0</td>\n",
       "      <td>NaN</td>\n",
       "      <td>house</td>\n",
       "      <td>villa</td>\n",
       "      <td>0</td>\n",
       "      <td>0</td>\n",
       "      <td>Antwerp</td>\n",
       "    </tr>\n",
       "    <tr>\n",
       "      <th>2</th>\n",
       "      <td>234.0</td>\n",
       "      <td>499000.0</td>\n",
       "      <td>as new</td>\n",
       "      <td>NaN</td>\n",
       "      <td>5.0</td>\n",
       "      <td>NaN</td>\n",
       "      <td>NaN</td>\n",
       "      <td>NaN</td>\n",
       "      <td>8800</td>\n",
       "      <td>744.0</td>\n",
       "      <td>0</td>\n",
       "      <td>0</td>\n",
       "      <td>NaN</td>\n",
       "      <td>house</td>\n",
       "      <td>villa</td>\n",
       "      <td>0</td>\n",
       "      <td>0</td>\n",
       "      <td>West Flanders</td>\n",
       "    </tr>\n",
       "    <tr>\n",
       "      <th>3</th>\n",
       "      <td>219.0</td>\n",
       "      <td>717000.0</td>\n",
       "      <td>as new</td>\n",
       "      <td>NaN</td>\n",
       "      <td>4.0</td>\n",
       "      <td>NaN</td>\n",
       "      <td>NaN</td>\n",
       "      <td>NaN</td>\n",
       "      <td>8000</td>\n",
       "      <td>760.0</td>\n",
       "      <td>0</td>\n",
       "      <td>0</td>\n",
       "      <td>NaN</td>\n",
       "      <td>house</td>\n",
       "      <td>house</td>\n",
       "      <td>0</td>\n",
       "      <td>0</td>\n",
       "      <td>West Flanders</td>\n",
       "    </tr>\n",
       "    <tr>\n",
       "      <th>4</th>\n",
       "      <td>156.0</td>\n",
       "      <td>429000.0</td>\n",
       "      <td>good</td>\n",
       "      <td>4.0</td>\n",
       "      <td>4.0</td>\n",
       "      <td>installed</td>\n",
       "      <td>NaN</td>\n",
       "      <td>NaN</td>\n",
       "      <td>8800</td>\n",
       "      <td>419.0</td>\n",
       "      <td>0</td>\n",
       "      <td>0</td>\n",
       "      <td>NaN</td>\n",
       "      <td>house</td>\n",
       "      <td>villa</td>\n",
       "      <td>1</td>\n",
       "      <td>90</td>\n",
       "      <td>West Flanders</td>\n",
       "    </tr>\n",
       "  </tbody>\n",
       "</table>\n",
       "</div>"
      ],
      "text/plain": [
       "    area     price building_status  number_facades  number_bedrooms  \\\n",
       "0  123.0  200000.0            good             3.0              2.0   \n",
       "1  255.0  698000.0  just renovated             4.0              4.0   \n",
       "2  234.0  499000.0          as new             NaN              5.0   \n",
       "3  219.0  717000.0          as new             NaN              4.0   \n",
       "4  156.0  429000.0            good             4.0              4.0   \n",
       "\n",
       "  kitchen_equipped furnished  open_fire  zip_code  land_surface  terrace  \\\n",
       "0        installed       NaN        NaN      3294         429.0        0   \n",
       "1        installed       NaN        NaN      2070        1210.0        0   \n",
       "2              NaN       NaN        NaN      8800         744.0        0   \n",
       "3              NaN       NaN        NaN      8000         760.0        0   \n",
       "4        installed       NaN        NaN      8800         419.0        0   \n",
       "\n",
       "   terrace_surface swimming_pool property_type property_subtype  garden  \\\n",
       "0                0           NaN         house            house       1   \n",
       "1                0           NaN         house            villa       0   \n",
       "2                0           NaN         house            villa       0   \n",
       "3                0           NaN         house            house       0   \n",
       "4                0           NaN         house            villa       1   \n",
       "\n",
       "   garden_surface         province  \n",
       "0             350  Flemish Brabant  \n",
       "1               0          Antwerp  \n",
       "2               0    West Flanders  \n",
       "3               0    West Flanders  \n",
       "4              90    West Flanders  "
      ]
     },
     "execution_count": 10,
     "metadata": {},
     "output_type": "execute_result"
    }
   ],
   "source": [
    "# adding a new column province\n",
    "conditions = [ (1000 <= df['zip_code']) & (df['zip_code'] < 1300),\n",
    "              (1300 <= df['zip_code']) & (df['zip_code'] < 1500),\n",
    "              ((1500 <= df['zip_code']) & (df['zip_code'] < 2000))| \n",
    "              ((3000 <= df['zip_code']) & (df['zip_code'] < 3500)),\n",
    "              (2000 <= df['zip_code']) & (df['zip_code'] < 3000),\n",
    "              (3500 <= df['zip_code']) & (df['zip_code'] < 4000),\n",
    "              (4000 <= df['zip_code']) & (df['zip_code'] < 5000),\n",
    "              (5000 <= df['zip_code']) & (df['zip_code'] < 6000),\n",
    "              (6600 <= df['zip_code']) & (df['zip_code'] < 7000),\n",
    "              ((6000 <= df['zip_code']) & (df['zip_code'] < 6600))|\n",
    "              ((7000 <= df['zip_code']) & (df['zip_code'] < 8000)),\n",
    "              (8000 <= df['zip_code']) & (df['zip_code'] < 9000),\n",
    "              (9000 <= df['zip_code']) & (df['zip_code'] < 10000)]\n",
    "values = ['Brussel-Capital', 'Walloon Brabant','Flemish Brabant','Antwerp','Limburg','Liege','Namur','Luxembourg','Hainaut','West Flanders','East Flanders']\n",
    "df['province'] = np.select(conditions, values)\n",
    "df.head()"
   ]
  },
  {
   "cell_type": "code",
   "execution_count": 11,
   "id": "8dc663e6",
   "metadata": {},
   "outputs": [
    {
     "data": {
      "text/plain": [
       "West Flanders      1540\n",
       "East Flanders      1357\n",
       "Hainaut             985\n",
       "Liege               943\n",
       "Flemish Brabant     862\n",
       "Antwerp             695\n",
       "Walloon Brabant     617\n",
       "Brussel-Capital     584\n",
       "Luxembourg          318\n",
       "Namur               270\n",
       "Limburg             162\n",
       "Name: province, dtype: int64"
      ]
     },
     "execution_count": 11,
     "metadata": {},
     "output_type": "execute_result"
    }
   ],
   "source": [
    "df.province.value_counts()"
   ]
  },
  {
   "cell_type": "markdown",
   "id": "92d50a05",
   "metadata": {},
   "source": [
    "### How many qualitative and quantitative variables are there ? "
   ]
  },
  {
   "cell_type": "code",
   "execution_count": 12,
   "id": "43c52bfa",
   "metadata": {},
   "outputs": [
    {
     "data": {
      "text/plain": [
       "8"
      ]
     },
     "execution_count": 12,
     "metadata": {},
     "output_type": "execute_result"
    }
   ],
   "source": [
    "quantitative_variables = ['area','price','number_facades','number_bedrooms','zip_code','land_surface','terrace_surface','garden_surface']\n",
    "len(quantitative_variables)"
   ]
  },
  {
   "cell_type": "code",
   "execution_count": 13,
   "id": "3cc997c5",
   "metadata": {},
   "outputs": [
    {
     "data": {
      "text/plain": [
       "9"
      ]
     },
     "execution_count": 13,
     "metadata": {},
     "output_type": "execute_result"
    }
   ],
   "source": [
    "qualitative_variables = ['building_status','kitchen_equipped','furnished','open_fire','terrace','swimming_pool','property_type','property_subtype','garden']\r\n",
    "len(qualitative_variables)"
   ]
  },
  {
   "cell_type": "markdown",
   "id": "e846384f",
   "metadata": {},
   "source": [
    "### How would you transform these values into numerical values ?"
   ]
  },
  {
   "cell_type": "code",
   "execution_count": 14,
   "id": "ba12ec9c",
   "metadata": {},
   "outputs": [],
   "source": [
    "df2 = df\r\n",
    "df2['building_status'] =df2['building_status'].astype('category').cat.codes\r\n",
    "df2['kitchen_equipped'] =df2['kitchen_equipped'].astype('category').cat.codes\r\n",
    "df2['furnished'] =df2['furnished'].astype('category').cat.codes\r\n",
    "df2['open_fire'] =df2['open_fire'].astype('category').cat.codes\r\n",
    "df2['property_type'] =df2['property_type'].astype('category').cat.codes\r\n",
    "df2['property_subtype'] =df2['property_subtype'].astype('category').cat.codes"
   ]
  },
  {
   "cell_type": "markdown",
   "id": "e2c2688a",
   "metadata": {},
   "source": [
    "### What is the correlation between the variables and the target ?"
   ]
  },
  {
   "cell_type": "code",
   "execution_count": 15,
   "id": "bd870fc8",
   "metadata": {},
   "outputs": [
    {
     "data": {
      "text/html": [
       "<div>\n",
       "<style scoped>\n",
       "    .dataframe tbody tr th:only-of-type {\n",
       "        vertical-align: middle;\n",
       "    }\n",
       "\n",
       "    .dataframe tbody tr th {\n",
       "        vertical-align: top;\n",
       "    }\n",
       "\n",
       "    .dataframe thead th {\n",
       "        text-align: right;\n",
       "    }\n",
       "</style>\n",
       "<table border=\"1\" class=\"dataframe\">\n",
       "  <thead>\n",
       "    <tr style=\"text-align: right;\">\n",
       "      <th></th>\n",
       "      <th>area</th>\n",
       "      <th>price</th>\n",
       "      <th>building_status</th>\n",
       "      <th>number_facades</th>\n",
       "      <th>number_bedrooms</th>\n",
       "      <th>kitchen_equipped</th>\n",
       "      <th>furnished</th>\n",
       "      <th>open_fire</th>\n",
       "      <th>zip_code</th>\n",
       "      <th>land_surface</th>\n",
       "      <th>terrace</th>\n",
       "      <th>terrace_surface</th>\n",
       "      <th>property_type</th>\n",
       "      <th>property_subtype</th>\n",
       "      <th>garden</th>\n",
       "      <th>garden_surface</th>\n",
       "    </tr>\n",
       "  </thead>\n",
       "  <tbody>\n",
       "    <tr>\n",
       "      <th>price</th>\n",
       "      <td>0.537828</td>\n",
       "      <td>1.0</td>\n",
       "      <td>-0.079637</td>\n",
       "      <td>0.245039</td>\n",
       "      <td>0.426205</td>\n",
       "      <td>-0.031317</td>\n",
       "      <td>0.022054</td>\n",
       "      <td>0.152028</td>\n",
       "      <td>-0.255526</td>\n",
       "      <td>0.224538</td>\n",
       "      <td>0.061152</td>\n",
       "      <td>0.021336</td>\n",
       "      <td>NaN</td>\n",
       "      <td>0.127673</td>\n",
       "      <td>0.041493</td>\n",
       "      <td>0.050399</td>\n",
       "    </tr>\n",
       "  </tbody>\n",
       "</table>\n",
       "</div>"
      ],
      "text/plain": [
       "           area  price  building_status  number_facades  number_bedrooms  \\\n",
       "price  0.537828    1.0        -0.079637        0.245039         0.426205   \n",
       "\n",
       "       kitchen_equipped  furnished  open_fire  zip_code  land_surface  \\\n",
       "price         -0.031317   0.022054   0.152028 -0.255526      0.224538   \n",
       "\n",
       "        terrace  terrace_surface  property_type  property_subtype    garden  \\\n",
       "price  0.061152         0.021336            NaN          0.127673  0.041493   \n",
       "\n",
       "       garden_surface  \n",
       "price        0.050399  "
      ]
     },
     "execution_count": 15,
     "metadata": {},
     "output_type": "execute_result"
    }
   ],
   "source": [
    "# check correlation transforming categorical variables\r\n",
    "df.corr(method ='pearson')[1:2]"
   ]
  },
  {
   "cell_type": "code",
   "execution_count": 16,
   "id": "53a25a8a",
   "metadata": {},
   "outputs": [
    {
     "data": {
      "text/plain": [
       "price    1.0\n",
       "dtype: float64"
      ]
     },
     "execution_count": 16,
     "metadata": {},
     "output_type": "execute_result"
    }
   ],
   "source": [
    "df.corr(method ='pearson')[1:2].apply('abs').max(axis=1)"
   ]
  },
  {
   "cell_type": "code",
   "execution_count": 17,
   "id": "22025150",
   "metadata": {},
   "outputs": [
    {
     "data": {
      "text/html": [
       "<div>\n",
       "<style scoped>\n",
       "    .dataframe tbody tr th:only-of-type {\n",
       "        vertical-align: middle;\n",
       "    }\n",
       "\n",
       "    .dataframe tbody tr th {\n",
       "        vertical-align: top;\n",
       "    }\n",
       "\n",
       "    .dataframe thead th {\n",
       "        text-align: right;\n",
       "    }\n",
       "</style>\n",
       "<table border=\"1\" class=\"dataframe\">\n",
       "  <thead>\n",
       "    <tr style=\"text-align: right;\">\n",
       "      <th></th>\n",
       "      <th>area</th>\n",
       "      <th>price</th>\n",
       "      <th>building_status</th>\n",
       "      <th>number_facades</th>\n",
       "      <th>number_bedrooms</th>\n",
       "      <th>kitchen_equipped</th>\n",
       "      <th>furnished</th>\n",
       "      <th>open_fire</th>\n",
       "      <th>zip_code</th>\n",
       "      <th>land_surface</th>\n",
       "      <th>terrace</th>\n",
       "      <th>terrace_surface</th>\n",
       "      <th>property_type</th>\n",
       "      <th>property_subtype</th>\n",
       "      <th>garden</th>\n",
       "      <th>garden_surface</th>\n",
       "    </tr>\n",
       "  </thead>\n",
       "  <tbody>\n",
       "    <tr>\n",
       "      <th>price</th>\n",
       "      <td>0.537828</td>\n",
       "      <td>1.0</td>\n",
       "      <td>-0.079637</td>\n",
       "      <td>0.245039</td>\n",
       "      <td>0.426205</td>\n",
       "      <td>-0.031317</td>\n",
       "      <td>0.022054</td>\n",
       "      <td>0.152028</td>\n",
       "      <td>-0.255526</td>\n",
       "      <td>0.224538</td>\n",
       "      <td>0.061152</td>\n",
       "      <td>0.021336</td>\n",
       "      <td>NaN</td>\n",
       "      <td>0.127673</td>\n",
       "      <td>0.041493</td>\n",
       "      <td>0.050399</td>\n",
       "    </tr>\n",
       "  </tbody>\n",
       "</table>\n",
       "</div>"
      ],
      "text/plain": [
       "           area  price  building_status  number_facades  number_bedrooms  \\\n",
       "price  0.537828    1.0        -0.079637        0.245039         0.426205   \n",
       "\n",
       "       kitchen_equipped  furnished  open_fire  zip_code  land_surface  \\\n",
       "price         -0.031317   0.022054   0.152028 -0.255526      0.224538   \n",
       "\n",
       "        terrace  terrace_surface  property_type  property_subtype    garden  \\\n",
       "price  0.061152         0.021336            NaN          0.127673  0.041493   \n",
       "\n",
       "       garden_surface  \n",
       "price        0.050399  "
      ]
     },
     "execution_count": 17,
     "metadata": {},
     "output_type": "execute_result"
    }
   ],
   "source": [
    "# check after transforming categorical variables\r\n",
    "df2.corr(method ='pearson')[1:2]"
   ]
  },
  {
   "cell_type": "markdown",
   "id": "5b697938",
   "metadata": {},
   "source": [
    "### Plots"
   ]
  },
  {
   "cell_type": "code",
   "execution_count": 30,
   "id": "4d51d3c3",
   "metadata": {},
   "outputs": [
    {
     "data": {
      "image/png": "[encoded data removed]",
      "text/plain": [
       "<Figure size 432x288 with 1 Axes>"
      ]
     },
     "metadata": {
      "needs_background": "light"
     },
     "output_type": "display_data"
    }
   ],
   "source": [
    "plt.hist(x='property_type',data=df)\r\n",
    "plt.show()"
   ]
  },
  {
   "cell_type": "code",
   "execution_count": 19,
   "id": "e8da3597",
   "metadata": {},
   "outputs": [
    {
     "data": {
      "image/png": "[encoded data removed]",
      "text/plain": [
       "<Figure size 360x360 with 1 Axes>"
      ]
     },
     "metadata": {
      "needs_background": "light"
     },
     "output_type": "display_data"
    }
   ],
   "source": [
    "sns.displot(data=df, x='price')\r\n",
    "plt.title('Price histogram');"
   ]
  },
  {
   "cell_type": "code",
   "execution_count": 20,
   "id": "b30f484b",
   "metadata": {},
   "outputs": [
    {
     "data": {
      "image/png": "[encoded data removed]",
      "text/plain": [
       "<Figure size 432x288 with 1 Axes>"
      ]
     },
     "metadata": {
      "needs_background": "light"
     },
     "output_type": "display_data"
    }
   ],
   "source": [
    "sns.scatterplot(data=df, x='area',y='price')\r\n",
    "plt.title('Scatter plot');"
   ]
  },
  {
   "cell_type": "code",
   "execution_count": 21,
   "id": "a1519727",
   "metadata": {},
   "outputs": [
    {
     "data": {
      "image/png": "[encoded data removed]",
      "text/plain": [
       "<Figure size 432x288 with 1 Axes>"
      ]
     },
     "metadata": {
      "needs_background": "light"
     },
     "output_type": "display_data"
    }
   ],
   "source": [
    "sns.scatterplot(data=df, x='land_surface',y='price')\r\n",
    "plt.title('Scatter plot');"
   ]
  },
  {
   "cell_type": "code",
   "execution_count": 22,
   "id": "459b1d56",
   "metadata": {},
   "outputs": [
    {
     "data": {
      "image/png": "[encoded data removed]",
      "text/plain": [
       "<Figure size 432x288 with 1 Axes>"
      ]
     },
     "metadata": {
      "needs_background": "light"
     },
     "output_type": "display_data"
    }
   ],
   "source": [
    "sns.scatterplot(data=df, x='zip_code',y='price', hue='province')\r\n",
    "plt.legend(loc=(1.04,0.2))\r\n",
    "plt.title('Scatter plot');"
   ]
  },
  {
   "cell_type": "code",
   "execution_count": 23,
   "id": "b573cbde",
   "metadata": {},
   "outputs": [
    {
     "data": {
      "image/png": "[encoded data removed]",
      "text/plain": [
       "<Figure size 432x288 with 1 Axes>"
      ]
     },
     "metadata": {
      "needs_background": "light"
     },
     "output_type": "display_data"
    }
   ],
   "source": [
    "sns.scatterplot(data=df, x='number_facades',y='price')\r\n",
    "plt.title('Scatter plot');"
   ]
  },
  {
   "cell_type": "code",
   "execution_count": 24,
   "id": "dd724a23",
   "metadata": {},
   "outputs": [
    {
     "data": {
      "image/png": "[encoded data removed]",
      "text/plain": [
       "<Figure size 432x288 with 1 Axes>"
      ]
     },
     "metadata": {
      "needs_background": "light"
     },
     "output_type": "display_data"
    }
   ],
   "source": [
    "sns.scatterplot(data=df, x='number_bedrooms',y='price')\r\n",
    "plt.title('Scatter plot');"
   ]
  },
  {
   "cell_type": "markdown",
   "id": "4c511b79",
   "metadata": {},
   "source": [
    "### Average price, median price, price per square meter"
   ]
  },
  {
   "cell_type": "code",
   "execution_count": 25,
   "id": "036ab5c3",
   "metadata": {},
   "outputs": [
    {
     "name": "stdout",
     "output_type": "stream",
     "text": [
      "province\n",
      "Antwerp            5.548010e+05\n",
      "Brussel-Capital    1.340633e+06\n",
      "East Flanders      4.223645e+05\n",
      "Flemish Brabant    6.987043e+05\n",
      "Hainaut            2.844033e+05\n",
      "Liege              2.809466e+05\n",
      "Limburg            4.126059e+05\n",
      "Luxembourg         3.716410e+05\n",
      "Namur              3.048474e+05\n",
      "Walloon Brabant    6.923937e+05\n",
      "West Flanders      4.690415e+05\n",
      "Name: price, dtype: float64\n"
     ]
    }
   ],
   "source": [
    "avg_price = df.groupby('province')['price'].mean()\r\n",
    "print(avg_price);"
   ]
  },
  {
   "cell_type": "code",
   "execution_count": 26,
   "id": "055de1dc",
   "metadata": {},
   "outputs": [
    {
     "data": {
      "image/png": "[encoded data removed]",
      "text/plain": [
       "<Figure size 432x288 with 1 Axes>"
      ]
     },
     "metadata": {},
     "output_type": "display_data"
    }
   ],
   "source": [
    "avg_price.plot.pie(y='province',\r\n",
    "           startangle=90,\r\n",
    "           title=('Average price per province'),\r\n",
    "           explode=(0.15, 0.15, 0.15, 0.15, 0.15, 0.15, 0.15, 0.15, 0.15, 0.15, 0.15),\r\n",
    "           autopct='%1.1f%%')\r\n",
    "plt.show();"
   ]
  },
  {
   "cell_type": "code",
   "execution_count": 27,
   "id": "2f37d24c",
   "metadata": {},
   "outputs": [
    {
     "name": "stdout",
     "output_type": "stream",
     "text": [
      "province\n",
      "Antwerp            389000.0\n",
      "Brussel-Capital    865000.0\n",
      "East Flanders      344500.0\n",
      "Flemish Brabant    445000.0\n",
      "Hainaut            220000.0\n",
      "Liege              239000.0\n",
      "Limburg            320644.0\n",
      "Luxembourg         309000.0\n",
      "Namur              270000.0\n",
      "Walloon Brabant    470000.0\n",
      "West Flanders      300000.0\n",
      "Name: price, dtype: float64\n"
     ]
    }
   ],
   "source": [
    "mdn_price = df.groupby('province')['price'].median()\r\n",
    "print(mdn_price);"
   ]
  },
  {
   "cell_type": "code",
   "execution_count": 28,
   "id": "55d17223",
   "metadata": {},
   "outputs": [
    {
     "data": {
      "image/png": "[encoded data removed]",
      "text/plain": [
       "<Figure size 432x288 with 1 Axes>"
      ]
     },
     "metadata": {},
     "output_type": "display_data"
    }
   ],
   "source": [
    "mdn_price.plot.pie(y='province',\r\n",
    "           title=('Median price per province'),\r\n",
    "           startangle=90,\r\n",
    "           explode=(0.15, 0.15, 0.15, 0.15, 0.15, 0.15, 0.15, 0.15, 0.15, 0.15, 0.15),\r\n",
    "           autopct='%1.1f%%')\r\n",
    "plt.show()"
   ]
  },
  {
   "cell_type": "code",
   "execution_count": 31,
   "id": "aea08b67",
   "metadata": {},
   "outputs": [
    {
     "data": {
      "text/plain": [
       "7     6006\n",
       "13    1061\n",
       "10     271\n",
       "0      259\n",
       "5      235\n",
       "9      176\n",
       "12      92\n",
       "4       88\n",
       "1       60\n",
       "6       28\n",
       "8       22\n",
       "2       15\n",
       "3       13\n",
       "11       7\n",
       "Name: property_subtype, dtype: int64"
      ]
     },
     "execution_count": 31,
     "metadata": {},
     "output_type": "execute_result"
    }
   ],
   "source": [
    "df.property_subtype.value_counts()"
   ]
  },
  {
   "cell_type": "code",
   "execution_count": 32,
   "id": "da09686c",
   "metadata": {},
   "outputs": [
    {
     "data": {
      "text/plain": [
       " 1    2199\n",
       "-1    2138\n",
       " 0    2070\n",
       " 4     767\n",
       " 3     743\n",
       " 2     377\n",
       " 5      39\n",
       "Name: building_status, dtype: int64"
      ]
     },
     "execution_count": 32,
     "metadata": {},
     "output_type": "execute_result"
    }
   ],
   "source": [
    "df.building_status.value_counts()"
   ]
  },
  {
   "cell_type": "code",
   "execution_count": null,
   "id": "dd21138d",
   "metadata": {},
   "outputs": [],
   "source": []
  }
 ],
 "metadata": {
  "interpreter": {
   "hash": "be342933b5fa928df9b205a9183b8cd5735d7bc80de011ab901d17f2842934af"
  },
  "kernelspec": {
   "display_name": "Python 3",
   "language": "python",
   "name": "python3"
  },
  "language_info": {
   "codemirror_mode": {
    "name": "ipython",
    "version": 3
   },
   "file_extension": ".py",
   "mimetype": "text/x-python",
   "name": "python",
   "nbconvert_exporter": "python",
   "pygments_lexer": "ipython3",
   "version": "3.8.10"
  }
 },
 "nbformat": 4,
 "nbformat_minor": 5
}
